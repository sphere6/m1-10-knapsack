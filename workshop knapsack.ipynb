{
 "cells": [
  {
   "cell_type": "markdown",
   "metadata": {},
   "source": [
    "## Knapsack Problem\n",
    "\n",
    "The *knapsack problem*:  given a set of integers $S = \\{s_1, s_2, \\ldots, s_n\\}$ and a target number $T$, find a subset (i.e., knapsack) of $S$ which adds up exactly to $T$.  \n",
    "\n",
    "For example, if $S = \\{1,2,5, 9, 10\\}$, there is a subset that adds up to $T = 22$, but not to $T = 23$.  Complete the following tasks related to this problem."
   ]
  },
  {
   "cell_type": "markdown",
   "metadata": {},
   "source": [
    "# 1. \n",
    "\n",
    "1.1 Find a subset of $S = \\{1,2,5, 9, 10\\}$ with sum $T = 22$. \n",
    "\n",
    "1.2 Explain the process (algorithm) you used mentally to find the subset.  Then apply the same process in an attempt to find a subset with sum $T = 23$.  How do you know there is no such subset?"
   ]
  },
  {
   "cell_type": "markdown",
   "metadata": {},
   "source": [
    "<h1>Answer</h1>\n",
    "\n",
    "1.1 : {1,2,9,10}\n",
    "\n",
    "1.2 :\n",
    "\n",
    "1- Find the largest number in the subset which is less than T and subtract it from T. \n",
    "\n",
    "2- Find if the result is within the subset. \n",
    "\n",
    "3- If the result is within the subset, then there exist a subset which adds up exactly to T.\n",
    "\n",
    "4- If the result is not within the subset, repeat step 1 to 3 until all possibilities have exhausted within the subset. \n",
    "\n",
    "This method does not guarantee necessary a reliable answer all the time. Another method which may not be quick but more reliable would be to find the sum of each of the possible combinations of numbers in the subset until one of them is equal to 23. There is no subset if there is no combinations which sum to 23.\n"
   ]
  },
  {
   "cell_type": "markdown",
   "metadata": {
    "collapsed": true
   },
   "source": [
    "# 2.\n",
    "\n",
    "Consider the following possible algorithm for the knapsack problem, written in psuedocode: \n",
    "```python\n",
    "knapsack(S[], T):\n",
    "    K = empty\n",
    "    for each i < size(S)\n",
    "        if sum(K) + S[i] <= T, put S[i] into K\n",
    "    if sum(K) = T, return K, else return False.\n",
    "```\n",
    "**a)** Describe what this algorithm does in English.  \n",
    "\n",
    "**b)** Implement this algorithm in Python and run it on the $S$ and $T$ above.\n",
    "\n",
    "\n",
    "**c)** Prove that this algorithm is NOT correct.  That is, find a counterexample: a set $S$ and number $T$ for which there is a solution, but not one that the algorithm finds.\n",
    "\n",
    "**d)** Verify that this particular $S$ and $T$ does not give the right output when entered to your Python program."
   ]
  },
  {
   "cell_type": "markdown",
   "metadata": {},
   "source": [
    "<h1>Answer</h1>\n",
    "\n",
    "2.a) \n",
    "\n",
    "1- Initialize an empty array $S$ which will hold the values which sums to a number $T$.\n",
    "\n",
    "2- For each element within a given set of numbers $S$, insert the element at index $i$ in array $K$ if the sum of the values currently in $K$ plus the value at index $i$ in $S$ is less than or equal to $T$. \n",
    "\n",
    "3- If the sum of the values in $K$ is equal to $T$ then return the array $K$ else return False. \n",
    "\n"
   ]
  },
  {
   "cell_type": "code",
   "execution_count": 49,
   "metadata": {},
   "outputs": [
    {
     "name": "stdout",
     "output_type": "stream",
     "text": [
      "S1=[1, 2, 5, 9, 10], T1=23, result: False\n",
      "S2=[1, 2, 5, 9, 10], T2=8, result: [1, 2, 5]\n"
     ]
    }
   ],
   "source": [
    "#2.b)\n",
    "import numpy as np\n",
    "def knapsack(S, T):\n",
    "    K = []\n",
    "    for i in range(len(S)):\n",
    "        current_element = S[i]\n",
    "        if np.sum(K) + current_element <= T:\n",
    "            K.append(current_element)\n",
    "    if np.sum(K) == T:\n",
    "        return K\n",
    "    else:\n",
    "        return False\n",
    "\n",
    "#Test1\n",
    "s_b1 = list({1,2,5,9,10})\n",
    "t_b1 = 23\n",
    "\n",
    "s_b2 = list({1,2,5,9,10})\n",
    "t_b2 = 8\n",
    "\n",
    "print(f'S1={s_b1}, T1={t_b1}, result: {knapsack(s_b1,t_b1)}')\n",
    "print(f'S2={s_b2}, T2={t_b2}, result: {knapsack(s_b2,t_b2)}')"
   ]
  },
  {
   "cell_type": "code",
   "execution_count": 50,
   "metadata": {},
   "outputs": [
    {
     "data": {
      "text/plain": [
       "False"
      ]
     },
     "execution_count": 50,
     "metadata": {},
     "output_type": "execute_result"
    }
   ],
   "source": [
    "#2.c)\n",
    "s_c = list({1,2,5,9,10})\n",
    "t_c = 22\n",
    "\n",
    "knapsack(s_c,t_c)\n",
    "\n",
    "#There is a subset within s_c which equals to 22 but in this case the algorithm fails to find it. "
   ]
  },
  {
   "cell_type": "markdown",
   "metadata": {},
   "source": [
    "# 3. \n",
    "\n",
    "Another try: What if you put the elements in the knapsack from largest to smallest?  Check that this too is not a correct algorithm."
   ]
  },
  {
   "cell_type": "code",
   "execution_count": 51,
   "metadata": {},
   "outputs": [
    {
     "name": "stdout",
     "output_type": "stream",
     "text": [
      "s_31=[1, 2, 5, 9, 10], t_31=22, result: [10, 9, 2, 1]\n",
      "s_31=[1, 2, 5, 9, 10], t_31=14, result: False\n"
     ]
    }
   ],
   "source": [
    "def knapsack_sorted_decreasing(S,T):\n",
    "    K = []\n",
    "    s_sorted = np.sort(S)[::-1]\n",
    "    for i in range(len(S)):\n",
    "        current_element = s_sorted[i]\n",
    "        if np.sum(K) + current_element <= T:\n",
    "            K.append(current_element)\n",
    "    if np.sum(K) == T:\n",
    "        return K\n",
    "    else:\n",
    "        return False  \n",
    "    \n",
    "s_31 = list({1,2,5,9,10})\n",
    "t_31 = 22\n",
    "\n",
    "s_32 = list({1,2,5,9,10})\n",
    "t_32 = 14\n",
    "\n",
    "print(f's_31={s_31 }, t_31={t_31}, result: {knapsack_sorted_decreasing(s_31,t_31)}')\n",
    "print(f's_31={s_32 }, t_31={t_32}, result: {knapsack_sorted_decreasing(s_32,t_32)}')\n",
    "\n",
    "#By sorting the elements from largest to smallest, the algorithm behaves as expected  for T = 22 but not for T = 14.\n",
    "#Therefore, the modification seems to have improved for some cases but is not always reliable. \n"
   ]
  },
  {
   "cell_type": "markdown",
   "metadata": {},
   "source": [
    "# 4.\n",
    "\n",
    "Describe a correct algorithm for the knapsack problem (that we haven't seen in class), both in English and in pseudocode.  Then implement the algorithm in Python.  Explain how you know your algorithm is correct (even if it might not be efficient)."
   ]
  },
  {
   "cell_type": "markdown",
   "metadata": {},
   "source": [
    "4.1 Description\n",
    "\n",
    "Find all combinations of values within the subset and check for each combination if the sum of the values equal T. If a combination equals T, return the combination. \n",
    "\n",
    "4.2 Pseudocode\n",
    "\n",
    "1- Determine all possible combinations from itertools combinations.\n",
    "\n",
    "2- For each combination in combinations, find the sum of the values in the combination.\n",
    "\n",
    "3- If a sum of the values in a combination equals T, return the combination else return False.\n"
   ]
  },
  {
   "cell_type": "code",
   "execution_count": 52,
   "metadata": {},
   "outputs": [
    {
     "name": "stdout",
     "output_type": "stream",
     "text": [
      "(1, 2, 9, 10)\n"
     ]
    }
   ],
   "source": [
    "#4.3 Implementation of the algorithm in Python\n",
    "\n",
    "from itertools import combinations\n",
    "\n",
    "def knapsack_combinations(S,T):\n",
    "    length = len(S)\n",
    "    for i in range(2,length):\n",
    "        for combination in combinations(S,i):\n",
    "            sum_of_nums = np.sum(combination)\n",
    "            if sum_of_nums == T:\n",
    "                return combination\n",
    "    return False\n",
    "\n",
    "#Test\n",
    "\n",
    "print(knapsack_combinations([1,2,5,9,10],22))"
   ]
  },
  {
   "cell_type": "markdown",
   "metadata": {},
   "source": [
    "4.4\n",
    "\n",
    "The algorithm will always return the correct solution given that the sum of every combinations will be checked against T."
   ]
  },
  {
   "cell_type": "markdown",
   "metadata": {
    "collapsed": true
   },
   "source": [
    "# 5. Generating correct change\n",
    "\n",
    "Now, we will be making change using the fewest coins. \n",
    "\n",
    "Suppose you are a programmer for a vending machine manufacturer. Your company wants to streamline effort by giving out the fewest possible coins in change for each transaction. Suppose a customer puts in a dollar bill and purchases an item for 37 cents. What is the smallest number of coins you can use to make change? The answer is six coins: two quarters, one dime, and three pennies. \n",
    "\n",
    "How did we arrive at the answer of six coins? We start with the largest coin in our arsenal (a quarter) and use as many of those as possible, then we go to the next lowest coin value and use as many of those as possible. This is the greedy algorithm for change-making.\n",
    "\n",
    "**Question:** Write the greedy algorithm for change making.\n",
    "\n",
    "The input is the amount of change to generate (in pennies) and a list of coin sizes (in pennies)\n",
    "\n",
    "The output is the minimum number of coins to gener\n",
    "\n",
    "```\n",
    "# buys with 1 dollar for 37 pennies\n",
    "# Second argument says we can give quarters, dimes, nickels and pennies\n",
    "make_change(100 - 37, [25, 10, 5, 1])\n",
    "\n",
    "# 2 quarters, one dime, and three pennies\n",
    "output --> 6 # Output would be equivalent to the choices [2, 1, 0, 3]\n",
    "```"
   ]
  },
  {
   "cell_type": "code",
   "execution_count": 53,
   "metadata": {},
   "outputs": [
    {
     "data": {
      "text/plain": [
       "[2, 1, 0, 3]"
      ]
     },
     "execution_count": 53,
     "metadata": {},
     "output_type": "execute_result"
    }
   ],
   "source": [
    "def make_change(amount, coin_values):\n",
    "    '''\n",
    "    Function which returns the number of coins to return for each coin value. \n",
    "    \n",
    "    Input:\n",
    "    Amount : Difference between amount given to pay the item and the price of the item.\n",
    "    Coin_values: A list of coin values.    \n",
    "    '''\n",
    "    coin_values = sorted(coin_values, reverse = True)\n",
    "    num_coins = []\n",
    "    remainder = amount\n",
    "    for coin_value in coin_values:\n",
    "        num_coin = remainder//coin_value\n",
    "        num_coins.append(num_coin)\n",
    "        remainder -= num_coin*coin_value\n",
    "    return num_coins\n",
    "    \n",
    "make_change(63, [25,10,5,1])"
   ]
  },
  {
   "cell_type": "markdown",
   "metadata": {},
   "source": [
    "# 6 Recursive change\n",
    "\n",
    "Write the greedy change making algorithm using recursion"
   ]
  },
  {
   "cell_type": "code",
   "execution_count": 54,
   "metadata": {},
   "outputs": [
    {
     "name": "stdout",
     "output_type": "stream",
     "text": [
      "[2, 1, 0, 3]\n"
     ]
    }
   ],
   "source": [
    "def make_change_recursive(remainder,coin_values, lst = None):\n",
    "    \n",
    "    '''\n",
    "    Function which returns the number of coins to return for each coin value. \n",
    "    \n",
    "    Input:\n",
    "    Remainder : Difference between amount given to pay the item and the price of the item.\n",
    "    Coin_values: A list of coin values.    \n",
    "    '''\n",
    "    coin_vals = coin_values.copy()\n",
    "    current_coin_value = coin_vals.pop(0)\n",
    "    if lst is None:\n",
    "        lst = []\n",
    "    num_coins = remainder//current_coin_value\n",
    "    remainder -= num_coins*current_coin_value\n",
    "    lst.append(num_coins)\n",
    "    if current_coin_value==1 :\n",
    "        return lst\n",
    "    else:\n",
    "        return make_change_recursive(remainder,coin_vals, lst)\n",
    "    \n",
    "#Test\n",
    "print(make_change_recursive(63,[25, 10, 5, 1]))"
   ]
  },
  {
   "cell_type": "markdown",
   "metadata": {},
   "source": [
    "# 7 (Stretch) Dynamic Programming Change making\n",
    "\n",
    "Write a solution to the change making problem using dynamic programming.\n",
    "\n",
    "**Hint:** Start with making change for one cent and systematically work its way up to the amount of change we require. This guarantees us that at each step of the algorithm we already know the minimum number of coins needed to make change for any smaller amount. Keep a memoized table of results for each step working up to the amount of change you need to generate."
   ]
  },
  {
   "cell_type": "code",
   "execution_count": null,
   "metadata": {},
   "outputs": [],
   "source": []
  }
 ],
 "metadata": {
  "kernelspec": {
   "display_name": "Python 3",
   "language": "python",
   "name": "python3"
  },
  "language_info": {
   "codemirror_mode": {
    "name": "ipython",
    "version": 3
   },
   "file_extension": ".py",
   "mimetype": "text/x-python",
   "name": "python",
   "nbconvert_exporter": "python",
   "pygments_lexer": "ipython3",
   "version": "3.8.3"
  }
 },
 "nbformat": 4,
 "nbformat_minor": 1
}
